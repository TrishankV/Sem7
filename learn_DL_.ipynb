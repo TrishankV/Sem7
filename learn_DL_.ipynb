{
  "nbformat": 4,
  "nbformat_minor": 0,
  "metadata": {
    "colab": {
      "provenance": [],
      "authorship_tag": "ABX9TyOJy+Z1BVrWvgxAKbNtw0WN",
      "include_colab_link": true
    },
    "kernelspec": {
      "name": "python3",
      "display_name": "Python 3"
    },
    "language_info": {
      "name": "python"
    },
    "widgets": {
      "application/vnd.jupyter.widget-state+json": {
        "2d2262dd0c6f4aa5b4ced13ab687cb84": {
          "model_module": "@jupyter-widgets/controls",
          "model_name": "FileUploadModel",
          "model_module_version": "1.5.0",
          "state": {
            "_counter": 5,
            "_dom_classes": [],
            "_model_module": "@jupyter-widgets/controls",
            "_model_module_version": "1.5.0",
            "_model_name": "FileUploadModel",
            "_view_count": null,
            "_view_module": "@jupyter-widgets/controls",
            "_view_module_version": "1.5.0",
            "_view_name": "FileUploadView",
            "accept": "",
            "button_style": "",
            "data": [
              null
            ],
            "description": "Upload",
            "description_tooltip": null,
            "disabled": false,
            "error": "",
            "icon": "upload",
            "layout": "IPY_MODEL_76384ebc936746c391932c397d6b4f77",
            "metadata": [
              {
                "name": "View:Print Submitted Form.pdf",
                "type": "application/pdf",
                "size": 92856,
                "lastModified": 1721307046000
              }
            ],
            "multiple": false,
            "style": "IPY_MODEL_57fbcebc6b8c43719daacece43e24be9"
          }
        },
        "76384ebc936746c391932c397d6b4f77": {
          "model_module": "@jupyter-widgets/base",
          "model_name": "LayoutModel",
          "model_module_version": "1.2.0",
          "state": {
            "_model_module": "@jupyter-widgets/base",
            "_model_module_version": "1.2.0",
            "_model_name": "LayoutModel",
            "_view_count": null,
            "_view_module": "@jupyter-widgets/base",
            "_view_module_version": "1.2.0",
            "_view_name": "LayoutView",
            "align_content": null,
            "align_items": null,
            "align_self": null,
            "border": null,
            "bottom": null,
            "display": null,
            "flex": null,
            "flex_flow": null,
            "grid_area": null,
            "grid_auto_columns": null,
            "grid_auto_flow": null,
            "grid_auto_rows": null,
            "grid_column": null,
            "grid_gap": null,
            "grid_row": null,
            "grid_template_areas": null,
            "grid_template_columns": null,
            "grid_template_rows": null,
            "height": null,
            "justify_content": null,
            "justify_items": null,
            "left": null,
            "margin": null,
            "max_height": null,
            "max_width": null,
            "min_height": null,
            "min_width": null,
            "object_fit": null,
            "object_position": null,
            "order": null,
            "overflow": null,
            "overflow_x": null,
            "overflow_y": null,
            "padding": null,
            "right": null,
            "top": null,
            "visibility": null,
            "width": null
          }
        },
        "57fbcebc6b8c43719daacece43e24be9": {
          "model_module": "@jupyter-widgets/controls",
          "model_name": "ButtonStyleModel",
          "model_module_version": "1.5.0",
          "state": {
            "_model_module": "@jupyter-widgets/controls",
            "_model_module_version": "1.5.0",
            "_model_name": "ButtonStyleModel",
            "_view_count": null,
            "_view_module": "@jupyter-widgets/base",
            "_view_module_version": "1.2.0",
            "_view_name": "StyleView",
            "button_color": null,
            "font_weight": ""
          }
        }
      }
    }
  },
  "cells": [
    {
      "cell_type": "markdown",
      "metadata": {
        "id": "view-in-github",
        "colab_type": "text"
      },
      "source": [
        "<a href=\"https://colab.research.google.com/github/TrishankV/Sem7/blob/main/learn_DL_.ipynb\" target=\"_parent\"><img src=\"https://colab.research.google.com/assets/colab-badge.svg\" alt=\"Open In Colab\"/></a>"
      ]
    },
    {
      "cell_type": "code",
      "execution_count": 2,
      "metadata": {
        "id": "dqARzGUMsaB6"
      },
      "outputs": [],
      "source": [
        "import numpy as np\n",
        "import pandas as pd\n",
        "import matplotlib.pyplot as plt\n",
        "import tensorflow"
      ]
    },
    {
      "cell_type": "code",
      "source": [
        "from tensorflow.keras.datasets import mnist"
      ],
      "metadata": {
        "id": "2M8k0Rv6slDk"
      },
      "execution_count": 3,
      "outputs": []
    },
    {
      "cell_type": "code",
      "source": [
        "(X_train, y_train), (X_test, y_test) = mnist.load_data()"
      ],
      "metadata": {
        "colab": {
          "base_uri": "https://localhost:8080/"
        },
        "id": "lbwxd0fpsuuz",
        "outputId": "150bc70e-e577-43ae-827f-d350b9e7f548"
      },
      "execution_count": 4,
      "outputs": [
        {
          "output_type": "stream",
          "name": "stdout",
          "text": [
            "Downloading data from https://storage.googleapis.com/tensorflow/tf-keras-datasets/mnist.npz\n",
            "11490434/11490434 [==============================] - 0s 0us/step\n"
          ]
        }
      ]
    },
    {
      "cell_type": "code",
      "source": [
        "plt.imshow(X_train[0])"
      ],
      "metadata": {
        "colab": {
          "base_uri": "https://localhost:8080/",
          "height": 447
        },
        "id": "-Skb8zewsxTb",
        "outputId": "5fafcd60-931d-477a-8c2c-b6d11c2d93ac"
      },
      "execution_count": 13,
      "outputs": [
        {
          "output_type": "execute_result",
          "data": {
            "text/plain": [
              "<matplotlib.image.AxesImage at 0x7ecaeea7d420>"
            ]
          },
          "metadata": {},
          "execution_count": 13
        },
        {
          "output_type": "display_data",
          "data": {
            "text/plain": [
              "<Figure size 640x480 with 1 Axes>"
            ],
            "image/png": "[encoded data removed]"
          },
          "metadata": {}
        }
      ]
    },
    {
      "cell_type": "code",
      "source": [
        "print(X_train.shape)\n",
        "print(y_train.shape)\n",
        "print(X_test.shape)\n",
        "print(y_test.shape)"
      ],
      "metadata": {
        "colab": {
          "base_uri": "https://localhost:8080/"
        },
        "id": "teWDLwNetcGs",
        "outputId": "06ff35b6-28fc-450f-beee-f2cd43bc6afe"
      },
      "execution_count": 11,
      "outputs": [
        {
          "output_type": "stream",
          "name": "stdout",
          "text": [
            "(60000, 28, 28)\n",
            "(60000,)\n",
            "(10000, 28, 28)\n",
            "(10000,)\n"
          ]
        }
      ]
    },
    {
      "cell_type": "code",
      "source": [],
      "metadata": {
        "colab": {
          "base_uri": "https://localhost:8080/"
        },
        "id": "ftzZOIwctlXy",
        "outputId": "6da878e8-d16d-4819-8527-9bbc7fbd779d"
      },
      "execution_count": 14,
      "outputs": [
        {
          "output_type": "execute_result",
          "data": {
            "text/plain": [
              "numpy.uint8"
            ]
          },
          "metadata": {},
          "execution_count": 14
        }
      ]
    },
    {
      "cell_type": "code",
      "source": [
        "from tensorflow.keras.models import Sequential\n",
        "from tensorflow.keras.layers import Dense, Dropout , InputLayer\n",
        "from tensorflow.keras.utils import to_categorical"
      ],
      "metadata": {
        "id": "7-yZFge4t5hC"
      },
      "execution_count": 29,
      "outputs": []
    },
    {
      "cell_type": "code",
      "source": [
        "def normalisation(X_train, X_test):\n",
        "    X_train = X_train / 255\n",
        "    X_test = X_test / 255\n",
        "    return X_train, X_test"
      ],
      "metadata": {
        "id": "o5ZUZ-YbuKOS"
      },
      "execution_count": 16,
      "outputs": []
    },
    {
      "cell_type": "code",
      "source": [
        "normalisation(X_train , y_train)"
      ],
      "metadata": {
        "colab": {
          "base_uri": "https://localhost:8080/"
        },
        "id": "l8b54C_6uWtw",
        "outputId": "851eb408-a723-415f-e9de-ea9f1d25b7b6"
      },
      "execution_count": 17,
      "outputs": [
        {
          "output_type": "execute_result",
          "data": {
            "text/plain": [
              "(array([[[0., 0., 0., ..., 0., 0., 0.],\n",
              "         [0., 0., 0., ..., 0., 0., 0.],\n",
              "         [0., 0., 0., ..., 0., 0., 0.],\n",
              "         ...,\n",
              "         [0., 0., 0., ..., 0., 0., 0.],\n",
              "         [0., 0., 0., ..., 0., 0., 0.],\n",
              "         [0., 0., 0., ..., 0., 0., 0.]],\n",
              " \n",
              "        [[0., 0., 0., ..., 0., 0., 0.],\n",
              "         [0., 0., 0., ..., 0., 0., 0.],\n",
              "         [0., 0., 0., ..., 0., 0., 0.],\n",
              "         ...,\n",
              "         [0., 0., 0., ..., 0., 0., 0.],\n",
              "         [0., 0., 0., ..., 0., 0., 0.],\n",
              "         [0., 0., 0., ..., 0., 0., 0.]],\n",
              " \n",
              "        [[0., 0., 0., ..., 0., 0., 0.],\n",
              "         [0., 0., 0., ..., 0., 0., 0.],\n",
              "         [0., 0., 0., ..., 0., 0., 0.],\n",
              "         ...,\n",
              "         [0., 0., 0., ..., 0., 0., 0.],\n",
              "         [0., 0., 0., ..., 0., 0., 0.],\n",
              "         [0., 0., 0., ..., 0., 0., 0.]],\n",
              " \n",
              "        ...,\n",
              " \n",
              "        [[0., 0., 0., ..., 0., 0., 0.],\n",
              "         [0., 0., 0., ..., 0., 0., 0.],\n",
              "         [0., 0., 0., ..., 0., 0., 0.],\n",
              "         ...,\n",
              "         [0., 0., 0., ..., 0., 0., 0.],\n",
              "         [0., 0., 0., ..., 0., 0., 0.],\n",
              "         [0., 0., 0., ..., 0., 0., 0.]],\n",
              " \n",
              "        [[0., 0., 0., ..., 0., 0., 0.],\n",
              "         [0., 0., 0., ..., 0., 0., 0.],\n",
              "         [0., 0., 0., ..., 0., 0., 0.],\n",
              "         ...,\n",
              "         [0., 0., 0., ..., 0., 0., 0.],\n",
              "         [0., 0., 0., ..., 0., 0., 0.],\n",
              "         [0., 0., 0., ..., 0., 0., 0.]],\n",
              " \n",
              "        [[0., 0., 0., ..., 0., 0., 0.],\n",
              "         [0., 0., 0., ..., 0., 0., 0.],\n",
              "         [0., 0., 0., ..., 0., 0., 0.],\n",
              "         ...,\n",
              "         [0., 0., 0., ..., 0., 0., 0.],\n",
              "         [0., 0., 0., ..., 0., 0., 0.],\n",
              "         [0., 0., 0., ..., 0., 0., 0.]]]),\n",
              " array([0.01960784, 0.        , 0.01568627, ..., 0.01960784, 0.02352941,\n",
              "        0.03137255]))"
            ]
          },
          "metadata": {},
          "execution_count": 17
        }
      ]
    },
    {
      "cell_type": "code",
      "source": [
        "y_train , y_test = to_categorical(y_train) , to_categorical(y_test)"
      ],
      "metadata": {
        "id": "ZG_W01BEuiD1"
      },
      "execution_count": 18,
      "outputs": []
    },
    {
      "cell_type": "code",
      "source": [
        "num_classes = y_test.shape[1]\n",
        "print(num_classes)"
      ],
      "metadata": {
        "colab": {
          "base_uri": "https://localhost:8080/"
        },
        "id": "iq-Nx8IQurzh",
        "outputId": "ff15639b-b0bc-49ab-c511-412a126562a4"
      },
      "execution_count": 19,
      "outputs": [
        {
          "output_type": "stream",
          "name": "stdout",
          "text": [
            "10\n"
          ]
        }
      ]
    },
    {
      "cell_type": "code",
      "source": [
        "number_of_pixels = X_train.shape[1] * X_train.shape[2]\n",
        "print(number_of_pixels)"
      ],
      "metadata": {
        "colab": {
          "base_uri": "https://localhost:8080/"
        },
        "id": "9SKn7RCvvPE0",
        "outputId": "bff0eb2a-7aa4-407b-a19d-417a38923be2"
      },
      "execution_count": 20,
      "outputs": [
        {
          "output_type": "stream",
          "name": "stdout",
          "text": [
            "784\n"
          ]
        }
      ]
    },
    {
      "cell_type": "code",
      "source": [
        "X_train.shape"
      ],
      "metadata": {
        "colab": {
          "base_uri": "https://localhost:8080/"
        },
        "id": "3uwHcUcHG9Wu",
        "outputId": "d2a2840d-0934-4df5-b71d-978166db5bbd"
      },
      "execution_count": 47,
      "outputs": [
        {
          "output_type": "execute_result",
          "data": {
            "text/plain": [
              "(60000, 28, 28)"
            ]
          },
          "metadata": {},
          "execution_count": 47
        }
      ]
    },
    {
      "cell_type": "code",
      "source": [
        "from tensorflow.keras.optimizers import Adam\n",
        "from tensorflow.keras.layers import Flatten\n",
        "\n",
        "model = Sequential()\n",
        "model.add(InputLayer(input_shape = (28,28,1)))\n",
        "model.add(Flatten())\n",
        "model.add(Dense(256 , activation = 'relu'))\n",
        "model.add(Dropout(0.03))\n",
        "model.add(Dense(10 , activation = 'softmax'))\n",
        "\n",
        "model.compile(optimizer = Adam() , loss = \"categorical_crossentropy\" )"
      ],
      "metadata": {
        "id": "0KQzKVpAuuyf"
      },
      "execution_count": 97,
      "outputs": []
    },
    {
      "cell_type": "code",
      "source": [
        "model.summary()"
      ],
      "metadata": {
        "colab": {
          "base_uri": "https://localhost:8080/"
        },
        "id": "nxgHaKB1AFmo",
        "outputId": "7d364d55-afcc-4c9a-cda6-ca6d55d00e66"
      },
      "execution_count": 93,
      "outputs": [
        {
          "output_type": "stream",
          "name": "stdout",
          "text": [
            "Model: \"sequential_26\"\n",
            "_________________________________________________________________\n",
            " Layer (type)                Output Shape              Param #   \n",
            "=================================================================\n",
            " flatten_8 (Flatten)         (None, 784)               0         \n",
            "                                                                 \n",
            " dense_35 (Dense)            (None, 256)               200960    \n",
            "                                                                 \n",
            " dropout_8 (Dropout)         (None, 256)               0         \n",
            "                                                                 \n",
            " dense_36 (Dense)            (None, 10)                2570      \n",
            "                                                                 \n",
            "=================================================================\n",
            "Total params: 203530 (795.04 KB)\n",
            "Trainable params: 203530 (795.04 KB)\n",
            "Non-trainable params: 0 (0.00 Byte)\n",
            "_________________________________________________________________\n"
          ]
        }
      ]
    },
    {
      "cell_type": "code",
      "source": [
        "model.fit(X_train , y_train , epochs = 10 , batch_size = 128 , validation_data = (X_test,y_test))\n",
        "scores = model.evaluate(X_test , y_test)\n",
        "scores"
      ],
      "metadata": {
        "colab": {
          "base_uri": "https://localhost:8080/"
        },
        "id": "MAmjGJirAHJN",
        "outputId": "c097a059-f231-41c2-a704-dc044545e8d6"
      },
      "execution_count": 99,
      "outputs": [
        {
          "output_type": "stream",
          "name": "stdout",
          "text": [
            "Epoch 1/10\n",
            "469/469 [==============================] - 4s 7ms/step - loss: 4.5896 - val_loss: 0.9066\n",
            "Epoch 2/10\n",
            "469/469 [==============================] - 3s 6ms/step - loss: 0.5657 - val_loss: 0.4811\n",
            "Epoch 3/10\n",
            "469/469 [==============================] - 3s 6ms/step - loss: 0.2840 - val_loss: 0.3899\n",
            "Epoch 4/10\n",
            "469/469 [==============================] - 3s 7ms/step - loss: 0.1994 - val_loss: 0.3786\n",
            "Epoch 5/10\n",
            "469/469 [==============================] - 3s 7ms/step - loss: 0.1589 - val_loss: 0.3822\n",
            "Epoch 6/10\n",
            "469/469 [==============================] - 3s 6ms/step - loss: 0.1602 - val_loss: 0.3727\n",
            "Epoch 7/10\n",
            "469/469 [==============================] - 4s 8ms/step - loss: 0.1501 - val_loss: 0.3159\n",
            "Epoch 8/10\n",
            "469/469 [==============================] - 4s 8ms/step - loss: 0.1442 - val_loss: 0.4171\n",
            "Epoch 9/10\n",
            "469/469 [==============================] - 3s 7ms/step - loss: 0.1482 - val_loss: 0.2852\n",
            "Epoch 10/10\n",
            "469/469 [==============================] - 3s 6ms/step - loss: 0.1326 - val_loss: 0.3283\n",
            "313/313 [==============================] - 2s 5ms/step - loss: 0.3283\n"
          ]
        },
        {
          "output_type": "execute_result",
          "data": {
            "text/plain": [
              "0.32826927304267883"
            ]
          },
          "metadata": {},
          "execution_count": 99
        }
      ]
    },
    {
      "cell_type": "code",
      "source": [
        "type(scores)"
      ],
      "metadata": {
        "colab": {
          "base_uri": "https://localhost:8080/"
        },
        "id": "l4YhWDFFHRUc",
        "outputId": "04068bac-f1fa-4e3c-b85a-e022be5dc955"
      },
      "execution_count": 94,
      "outputs": [
        {
          "output_type": "execute_result",
          "data": {
            "text/plain": [
              "float"
            ]
          },
          "metadata": {},
          "execution_count": 94
        }
      ]
    },
    {
      "cell_type": "code",
      "source": [
        "\n",
        "# Calculate accuracy and precision\n",
        "from sklearn.metrics import accuracy_score, precision_score\n",
        "y_pred = np.argmax(model.predict(X_test), axis=1)\n",
        "y_true = np.argmax(y_test, axis=1)\n",
        "\n",
        "accuracy = accuracy_score(y_true, y_pred)\n",
        "precision = precision_score(y_true, y_pred, average='macro')  # Use 'macro' for multi-class\n",
        "\n",
        "print(\"Accuracy:\", accuracy)\n",
        "print(\"Precision:\", precision)\n"
      ],
      "metadata": {
        "colab": {
          "base_uri": "https://localhost:8080/"
        },
        "id": "8BA5yC4aJA8I",
        "outputId": "da381917-98a7-46ac-e6ed-4d54807aea40"
      },
      "execution_count": 100,
      "outputs": [
        {
          "output_type": "stream",
          "name": "stdout",
          "text": [
            "313/313 [==============================] - 2s 6ms/step\n",
            "Accuracy: 0.9592\n",
            "Precision: 0.9591135438795897\n"
          ]
        }
      ]
    },
    {
      "cell_type": "code",
      "source": [
        "# using Covolutional Nueral network\n",
        "from tensorflow.keras.optimizers import Adam\n",
        "from tensorflow.keras.layers import Conv2D , MaxPooling2D\n",
        "CNN_model = Sequential()\n",
        "CNN_model.add(InputLayer(input_shape = (28,28,1)))\n",
        "CNN_model.add(Conv2D(128 , (10,10) , activation = 'relu'))\n",
        "CNN_model.add(MaxPooling2D(pool_size = (4,4)))\n",
        "CNN_model.add(Flatten())\n",
        "CNN_model.add(Dense(256 , activation = 'relu'))\n",
        "CNN_model.add(Dropout(0.03))\n",
        "CNN_model.add(Dense(10 , activation = 'softmax'))\n",
        "model.compile(optimizer = Adam(learning_rate = 0.0001) , loss = \"categorical_crossentropy\" )"
      ],
      "metadata": {
        "id": "UfIX7ESqMR-u"
      },
      "execution_count": 116,
      "outputs": []
    },
    {
      "cell_type": "code",
      "source": [
        "CNN_model.summary()"
      ],
      "metadata": {
        "colab": {
          "base_uri": "https://localhost:8080/"
        },
        "id": "d_yyZCdrNG1v",
        "outputId": "72785f21-43d2-4dcf-d6d8-675401b1429b"
      },
      "execution_count": 117,
      "outputs": [
        {
          "output_type": "stream",
          "name": "stdout",
          "text": [
            "Model: \"sequential_36\"\n",
            "_________________________________________________________________\n",
            " Layer (type)                Output Shape              Param #   \n",
            "=================================================================\n",
            " conv2d_6 (Conv2D)           (None, 19, 19, 128)       12928     \n",
            "                                                                 \n",
            " max_pooling2d_4 (MaxPoolin  (None, 4, 4, 128)         0         \n",
            " g2D)                                                            \n",
            "                                                                 \n",
            " flatten_16 (Flatten)        (None, 2048)              0         \n",
            "                                                                 \n",
            " dense_47 (Dense)            (None, 256)               524544    \n",
            "                                                                 \n",
            " dropout_14 (Dropout)        (None, 256)               0         \n",
            "                                                                 \n",
            " dense_48 (Dense)            (None, 10)                2570      \n",
            "                                                                 \n",
            "=================================================================\n",
            "Total params: 540042 (2.06 MB)\n",
            "Trainable params: 540042 (2.06 MB)\n",
            "Non-trainable params: 0 (0.00 Byte)\n",
            "_________________________________________________________________\n"
          ]
        }
      ]
    },
    {
      "cell_type": "code",
      "source": [
        "model.fit(X_train , y_train , epochs = 100 , batch_size = 256 , validation_data = (X_test,y_test))\n",
        "scores = model.evaluate(X_test , y_test)"
      ],
      "metadata": {
        "colab": {
          "base_uri": "https://localhost:8080/"
        },
        "id": "F2Na6usANJTU",
        "outputId": "e5c1b40f-71ec-41e0-eb91-242d0f9e5862"
      },
      "execution_count": 118,
      "outputs": [
        {
          "output_type": "stream",
          "name": "stdout",
          "text": [
            "Epoch 1/100\n",
            "235/235 [==============================] - 4s 16ms/step - loss: 0.0513 - val_loss: 0.3771\n",
            "Epoch 2/100\n",
            "235/235 [==============================] - 4s 19ms/step - loss: 0.0287 - val_loss: 0.3645\n",
            "Epoch 3/100\n",
            "235/235 [==============================] - 3s 13ms/step - loss: 0.0217 - val_loss: 0.3623\n",
            "Epoch 4/100\n",
            "235/235 [==============================] - 2s 8ms/step - loss: 0.0188 - val_loss: 0.3532\n",
            "Epoch 5/100\n",
            "235/235 [==============================] - 2s 8ms/step - loss: 0.0172 - val_loss: 0.3526\n",
            "Epoch 6/100\n",
            "235/235 [==============================] - 2s 8ms/step - loss: 0.0161 - val_loss: 0.3572\n",
            "Epoch 7/100\n",
            "235/235 [==============================] - 3s 14ms/step - loss: 0.0167 - val_loss: 0.3480\n",
            "Epoch 8/100\n",
            "235/235 [==============================] - 2s 9ms/step - loss: 0.0146 - val_loss: 0.3447\n",
            "Epoch 9/100\n",
            "235/235 [==============================] - 2s 9ms/step - loss: 0.0147 - val_loss: 0.3432\n",
            "Epoch 10/100\n",
            "235/235 [==============================] - 2s 8ms/step - loss: 0.0124 - val_loss: 0.3446\n",
            "Epoch 11/100\n",
            "235/235 [==============================] - 2s 8ms/step - loss: 0.0146 - val_loss: 0.3477\n",
            "Epoch 12/100\n",
            "235/235 [==============================] - 2s 8ms/step - loss: 0.0158 - val_loss: 0.3454\n",
            "Epoch 13/100\n",
            "235/235 [==============================] - 3s 14ms/step - loss: 0.0147 - val_loss: 0.3342\n",
            "Epoch 14/100\n",
            "235/235 [==============================] - 2s 9ms/step - loss: 0.0128 - val_loss: 0.3376\n",
            "Epoch 15/100\n",
            "235/235 [==============================] - 2s 8ms/step - loss: 0.0119 - val_loss: 0.3428\n",
            "Epoch 16/100\n",
            "235/235 [==============================] - 2s 8ms/step - loss: 0.0100 - val_loss: 0.3418\n",
            "Epoch 17/100\n",
            "235/235 [==============================] - 2s 8ms/step - loss: 0.0119 - val_loss: 0.3384\n",
            "Epoch 18/100\n",
            "235/235 [==============================] - 2s 8ms/step - loss: 0.0128 - val_loss: 0.3350\n",
            "Epoch 19/100\n",
            "235/235 [==============================] - 3s 13ms/step - loss: 0.0106 - val_loss: 0.3326\n",
            "Epoch 20/100\n",
            "235/235 [==============================] - 2s 10ms/step - loss: 0.0092 - val_loss: 0.3332\n",
            "Epoch 21/100\n",
            "235/235 [==============================] - 2s 8ms/step - loss: 0.0112 - val_loss: 0.3276\n",
            "Epoch 22/100\n",
            "235/235 [==============================] - 2s 8ms/step - loss: 0.0101 - val_loss: 0.3258\n",
            "Epoch 23/100\n",
            "235/235 [==============================] - 2s 9ms/step - loss: 0.0109 - val_loss: 0.3290\n",
            "Epoch 24/100\n",
            "235/235 [==============================] - 2s 8ms/step - loss: 0.0095 - val_loss: 0.3328\n",
            "Epoch 25/100\n",
            "235/235 [==============================] - 3s 12ms/step - loss: 0.0102 - val_loss: 0.3238\n",
            "Epoch 26/100\n",
            "235/235 [==============================] - 3s 11ms/step - loss: 0.0089 - val_loss: 0.3291\n",
            "Epoch 27/100\n",
            "235/235 [==============================] - 2s 8ms/step - loss: 0.0105 - val_loss: 0.3308\n",
            "Epoch 28/100\n",
            "235/235 [==============================] - 2s 8ms/step - loss: 0.0101 - val_loss: 0.3382\n",
            "Epoch 29/100\n",
            "235/235 [==============================] - 2s 8ms/step - loss: 0.0097 - val_loss: 0.3308\n",
            "Epoch 30/100\n",
            "235/235 [==============================] - 2s 8ms/step - loss: 0.0081 - val_loss: 0.3357\n",
            "Epoch 31/100\n",
            "235/235 [==============================] - 3s 11ms/step - loss: 0.0075 - val_loss: 0.3407\n",
            "Epoch 32/100\n",
            "235/235 [==============================] - 3s 12ms/step - loss: 0.0096 - val_loss: 0.3434\n",
            "Epoch 33/100\n",
            "235/235 [==============================] - 2s 8ms/step - loss: 0.0076 - val_loss: 0.3419\n",
            "Epoch 34/100\n",
            "235/235 [==============================] - 2s 8ms/step - loss: 0.0091 - val_loss: 0.3407\n",
            "Epoch 35/100\n",
            "235/235 [==============================] - 2s 8ms/step - loss: 0.0083 - val_loss: 0.3477\n",
            "Epoch 36/100\n",
            "235/235 [==============================] - 2s 9ms/step - loss: 0.0095 - val_loss: 0.3480\n",
            "Epoch 37/100\n",
            "235/235 [==============================] - 3s 11ms/step - loss: 0.0076 - val_loss: 0.3532\n",
            "Epoch 38/100\n",
            "235/235 [==============================] - 3s 13ms/step - loss: 0.0107 - val_loss: 0.3439\n",
            "Epoch 39/100\n",
            "235/235 [==============================] - 2s 8ms/step - loss: 0.0091 - val_loss: 0.3407\n",
            "Epoch 40/100\n",
            "235/235 [==============================] - 2s 9ms/step - loss: 0.0082 - val_loss: 0.3436\n",
            "Epoch 41/100\n",
            "235/235 [==============================] - 2s 9ms/step - loss: 0.0087 - val_loss: 0.3442\n",
            "Epoch 42/100\n",
            "235/235 [==============================] - 2s 8ms/step - loss: 0.0086 - val_loss: 0.3527\n",
            "Epoch 43/100\n",
            "235/235 [==============================] - 2s 10ms/step - loss: 0.0087 - val_loss: 0.3471\n",
            "Epoch 44/100\n",
            "235/235 [==============================] - 3s 13ms/step - loss: 0.0070 - val_loss: 0.3537\n",
            "Epoch 45/100\n",
            "235/235 [==============================] - 2s 9ms/step - loss: 0.0069 - val_loss: 0.3565\n",
            "Epoch 46/100\n",
            "235/235 [==============================] - 2s 8ms/step - loss: 0.0072 - val_loss: 0.3501\n",
            "Epoch 47/100\n",
            "235/235 [==============================] - 2s 9ms/step - loss: 0.0077 - val_loss: 0.3560\n",
            "Epoch 48/100\n",
            "235/235 [==============================] - 2s 8ms/step - loss: 0.0068 - val_loss: 0.3525\n",
            "Epoch 49/100\n",
            "235/235 [==============================] - 2s 9ms/step - loss: 0.0084 - val_loss: 0.3510\n",
            "Epoch 50/100\n",
            "235/235 [==============================] - 4s 15ms/step - loss: 0.0064 - val_loss: 0.3591\n",
            "Epoch 51/100\n",
            "235/235 [==============================] - 2s 8ms/step - loss: 0.0085 - val_loss: 0.3517\n",
            "Epoch 52/100\n",
            "235/235 [==============================] - 2s 8ms/step - loss: 0.0082 - val_loss: 0.3504\n",
            "Epoch 53/100\n",
            "235/235 [==============================] - 2s 8ms/step - loss: 0.0071 - val_loss: 0.3480\n",
            "Epoch 54/100\n",
            "235/235 [==============================] - 2s 9ms/step - loss: 0.0072 - val_loss: 0.3520\n",
            "Epoch 55/100\n",
            "235/235 [==============================] - 4s 15ms/step - loss: 0.0073 - val_loss: 0.3473\n",
            "Epoch 56/100\n",
            "235/235 [==============================] - 3s 13ms/step - loss: 0.0067 - val_loss: 0.3468\n",
            "Epoch 57/100\n",
            "235/235 [==============================] - 2s 8ms/step - loss: 0.0067 - val_loss: 0.3424\n",
            "Epoch 58/100\n",
            "235/235 [==============================] - 2s 9ms/step - loss: 0.0059 - val_loss: 0.3569\n",
            "Epoch 59/100\n",
            "235/235 [==============================] - 2s 8ms/step - loss: 0.0054 - val_loss: 0.3513\n",
            "Epoch 60/100\n",
            "235/235 [==============================] - 2s 8ms/step - loss: 0.0073 - val_loss: 0.3501\n",
            "Epoch 61/100\n",
            "235/235 [==============================] - 2s 9ms/step - loss: 0.0066 - val_loss: 0.3516\n",
            "Epoch 62/100\n",
            "235/235 [==============================] - 3s 14ms/step - loss: 0.0061 - val_loss: 0.3493\n",
            "Epoch 63/100\n",
            "235/235 [==============================] - 2s 9ms/step - loss: 0.0055 - val_loss: 0.3509\n",
            "Epoch 64/100\n",
            "235/235 [==============================] - 2s 9ms/step - loss: 0.0074 - val_loss: 0.3475\n",
            "Epoch 65/100\n",
            "235/235 [==============================] - 2s 8ms/step - loss: 0.0059 - val_loss: 0.3443\n",
            "Epoch 66/100\n",
            "235/235 [==============================] - 2s 8ms/step - loss: 0.0063 - val_loss: 0.3559\n",
            "Epoch 67/100\n",
            "235/235 [==============================] - 2s 8ms/step - loss: 0.0063 - val_loss: 0.3467\n",
            "Epoch 68/100\n",
            "235/235 [==============================] - 3s 13ms/step - loss: 0.0066 - val_loss: 0.3493\n",
            "Epoch 69/100\n",
            "235/235 [==============================] - 2s 10ms/step - loss: 0.0078 - val_loss: 0.3426\n",
            "Epoch 70/100\n",
            "235/235 [==============================] - 2s 8ms/step - loss: 0.0059 - val_loss: 0.3632\n",
            "Epoch 71/100\n",
            "235/235 [==============================] - 2s 9ms/step - loss: 0.0062 - val_loss: 0.3563\n",
            "Epoch 72/100\n",
            "235/235 [==============================] - 2s 8ms/step - loss: 0.0076 - val_loss: 0.3653\n",
            "Epoch 73/100\n",
            "235/235 [==============================] - 2s 9ms/step - loss: 0.0056 - val_loss: 0.3628\n",
            "Epoch 74/100\n",
            "235/235 [==============================] - 3s 12ms/step - loss: 0.0066 - val_loss: 0.3563\n",
            "Epoch 75/100\n",
            "235/235 [==============================] - 3s 11ms/step - loss: 0.0056 - val_loss: 0.3578\n",
            "Epoch 76/100\n",
            "235/235 [==============================] - 2s 9ms/step - loss: 0.0061 - val_loss: 0.3549\n",
            "Epoch 77/100\n",
            "235/235 [==============================] - 2s 9ms/step - loss: 0.0066 - val_loss: 0.3598\n",
            "Epoch 78/100\n",
            "235/235 [==============================] - 2s 9ms/step - loss: 0.0066 - val_loss: 0.3490\n",
            "Epoch 79/100\n",
            "235/235 [==============================] - 2s 9ms/step - loss: 0.0063 - val_loss: 0.3620\n",
            "Epoch 80/100\n",
            "235/235 [==============================] - 3s 12ms/step - loss: 0.0067 - val_loss: 0.3658\n",
            "Epoch 81/100\n",
            "235/235 [==============================] - 3s 11ms/step - loss: 0.0070 - val_loss: 0.3559\n",
            "Epoch 82/100\n",
            "235/235 [==============================] - 2s 9ms/step - loss: 0.0067 - val_loss: 0.3549\n",
            "Epoch 83/100\n",
            "235/235 [==============================] - 2s 9ms/step - loss: 0.0055 - val_loss: 0.3581\n",
            "Epoch 84/100\n",
            "235/235 [==============================] - 2s 9ms/step - loss: 0.0060 - val_loss: 0.3521\n",
            "Epoch 85/100\n",
            "235/235 [==============================] - 2s 9ms/step - loss: 0.0051 - val_loss: 0.3627\n",
            "Epoch 86/100\n",
            "235/235 [==============================] - 3s 13ms/step - loss: 0.0052 - val_loss: 0.3632\n",
            "Epoch 87/100\n",
            "235/235 [==============================] - 3s 11ms/step - loss: 0.0055 - val_loss: 0.3595\n",
            "Epoch 88/100\n",
            "235/235 [==============================] - 2s 9ms/step - loss: 0.0052 - val_loss: 0.3539\n",
            "Epoch 89/100\n",
            "235/235 [==============================] - 2s 9ms/step - loss: 0.0049 - val_loss: 0.3501\n",
            "Epoch 90/100\n",
            "235/235 [==============================] - 2s 9ms/step - loss: 0.0060 - val_loss: 0.3529\n",
            "Epoch 91/100\n",
            "235/235 [==============================] - 2s 9ms/step - loss: 0.0067 - val_loss: 0.3562\n",
            "Epoch 92/100\n",
            "235/235 [==============================] - 3s 12ms/step - loss: 0.0079 - val_loss: 0.3568\n",
            "Epoch 93/100\n",
            "235/235 [==============================] - 3s 11ms/step - loss: 0.0047 - val_loss: 0.3607\n",
            "Epoch 94/100\n",
            "235/235 [==============================] - 2s 9ms/step - loss: 0.0070 - val_loss: 0.3598\n",
            "Epoch 95/100\n",
            "235/235 [==============================] - 2s 9ms/step - loss: 0.0052 - val_loss: 0.3637\n",
            "Epoch 96/100\n",
            "235/235 [==============================] - 2s 9ms/step - loss: 0.0046 - val_loss: 0.3621\n",
            "Epoch 97/100\n",
            "235/235 [==============================] - 2s 9ms/step - loss: 0.0050 - val_loss: 0.3615\n",
            "Epoch 98/100\n",
            "235/235 [==============================] - 3s 13ms/step - loss: 0.0066 - val_loss: 0.3534\n",
            "Epoch 99/100\n",
            "235/235 [==============================] - 3s 11ms/step - loss: 0.0057 - val_loss: 0.3576\n",
            "Epoch 100/100\n",
            "235/235 [==============================] - 2s 9ms/step - loss: 0.0062 - val_loss: 0.3576\n",
            "313/313 [==============================] - 1s 3ms/step - loss: 0.3576\n"
          ]
        }
      ]
    },
    {
      "cell_type": "code",
      "source": [
        "from sklearn.metrics import accuracy_score, precision_score\n",
        "y_pred = np.argmax(model.predict(X_test), axis=1)\n",
        "y_true = np.argmax(y_test, axis=1)\n",
        "\n",
        "accuracy = accuracy_score(y_true, y_pred)\n",
        "precision = precision_score(y_true, y_pred, average='macro')  # Use 'macro' for multi-class\n",
        "\n",
        "print(\"Accuracy:\", accuracy)\n",
        "print(\"Precision:\", precision)\n"
      ],
      "metadata": {
        "colab": {
          "base_uri": "https://localhost:8080/"
        },
        "id": "cAYNTIXyNf2I",
        "outputId": "c349e30a-4a22-4277-fa16-abe0a22841f1"
      },
      "execution_count": 119,
      "outputs": [
        {
          "output_type": "stream",
          "name": "stdout",
          "text": [
            "313/313 [==============================] - 1s 2ms/step\n",
            "Accuracy: 0.9776\n",
            "Precision: 0.9774100181491747\n"
          ]
        }
      ]
    },
    {
      "cell_type": "code",
      "source": [
        "# prompt: a code to recognise which number is form an user inputted image\n",
        "\n",
        "import numpy as np\n",
        "import pandas as pd\n",
        "import matplotlib.pyplot as plt\n",
        "import tensorflow\n",
        "from tensorflow.keras.datasets import mnist\n",
        "from tensorflow.keras.models import Sequential\n",
        "from tensorflow.keras.layers import Dense, Dropout , InputLayer\n",
        "from tensorflow.keras.utils import to_categorical\n",
        "from tensorflow.keras.optimizers import Adam\n",
        "from tensorflow.keras.layers import Flatten\n",
        "from sklearn.metrics import accuracy_score, precision_score\n",
        "from tensorflow.keras.layers import Conv2D , MaxPooling2D\n",
        "from PIL import Image\n",
        "from google.colab import files\n",
        "\n",
        "# ... (your existing code for model training) ...\n",
        "\n",
        "# Function to preprocess the uploaded image\n",
        "def preprocess_image(image_path):\n",
        "  img = Image.open(image_path).convert('L')  # Convert to grayscale\n",
        "  img = img.resize((28, 28))  # Resize to 28x28 pixels\n",
        "  img_array = np.array(img)\n",
        "  img_array = img_array / 255.0  # Normalize pixel values\n",
        "  img_array = img_array.reshape(1, 28, 28, 1)  # Reshape for model input\n",
        "  return img_array\n",
        "\n",
        "# Upload an image file\n",
        "uploaded = files.upload()\n",
        "\n",
        "# Get the uploaded file name\n",
        "for fn in uploaded.keys():\n",
        "  image_path = fn\n",
        "\n",
        "# Preprocess the uploaded image\n",
        "img_array = preprocess_image(image_path)\n",
        "\n",
        "# Make a prediction\n",
        "prediction = np.argmax(CNN_model.predict(img_array))\n",
        "\n",
        "print(\"Predicted number:\", prediction)\n"
      ],
      "metadata": {
        "colab": {
          "base_uri": "https://localhost:8080/",
          "height": 123
        },
        "id": "m5X-C9cyN7iN",
        "outputId": "c14be875-7189-4132-d9eb-16c1e2c144b3"
      },
      "execution_count": 150,
      "outputs": [
        {
          "output_type": "display_data",
          "data": {
            "text/plain": [
              "<IPython.core.display.HTML object>"
            ],
            "text/html": [
              "\n",
              "     <input type=\"file\" id=\"files-e84673af-7321-45e1-9720-1110b0b9bcd5\" name=\"files[]\" multiple disabled\n",
              "        style=\"border:none\" />\n",
              "     <output id=\"result-e84673af-7321-45e1-9720-1110b0b9bcd5\">\n",
              "      Upload widget is only available when the cell has been executed in the\n",
              "      current browser session. Please rerun this cell to enable.\n",
              "      </output>\n",
              "      <script>// Copyright 2017 Google LLC\n",
              "//\n",
              "// Licensed under the Apache License, Version 2.0 (the \"License\");\n",
              "// you may not use this file except in compliance with the License.\n",
              "// You may obtain a copy of the License at\n",
              "//\n",
              "//      http://www.apache.org/licenses/LICENSE-2.0\n",
              "//\n",
              "// Unless required by applicable law or agreed to in writing, software\n",
              "// distributed under the License is distributed on an \"AS IS\" BASIS,\n",
              "// WITHOUT WARRANTIES OR CONDITIONS OF ANY KIND, either express or implied.\n",
              "// See the License for the specific language governing permissions and\n",
              "// limitations under the License.\n",
              "\n",
              "/**\n",
              " * @fileoverview Helpers for google.colab Python module.\n",
              " */\n",
              "(function(scope) {\n",
              "function span(text, styleAttributes = {}) {\n",
              "  const element = document.createElement('span');\n",
              "  element.textContent = text;\n",
              "  for (const key of Object.keys(styleAttributes)) {\n",
              "    element.style[key] = styleAttributes[key];\n",
              "  }\n",
              "  return element;\n",
              "}\n",
              "\n",
              "// Max number of bytes which will be uploaded at a time.\n",
              "const MAX_PAYLOAD_SIZE = 100 * 1024;\n",
              "\n",
              "function _uploadFiles(inputId, outputId) {\n",
              "  const steps = uploadFilesStep(inputId, outputId);\n",
              "  const outputElement = document.getElementById(outputId);\n",
              "  // Cache steps on the outputElement to make it available for the next call\n",
              "  // to uploadFilesContinue from Python.\n",
              "  outputElement.steps = steps;\n",
              "\n",
              "  return _uploadFilesContinue(outputId);\n",
              "}\n",
              "\n",
              "// This is roughly an async generator (not supported in the browser yet),\n",
              "// where there are multiple asynchronous steps and the Python side is going\n",
              "// to poll for completion of each step.\n",
              "// This uses a Promise to block the python side on completion of each step,\n",
              "// then passes the result of the previous step as the input to the next step.\n",
              "function _uploadFilesContinue(outputId) {\n",
              "  const outputElement = document.getElementById(outputId);\n",
              "  const steps = outputElement.steps;\n",
              "\n",
              "  const next = steps.next(outputElement.lastPromiseValue);\n",
              "  return Promise.resolve(next.value.promise).then((value) => {\n",
              "    // Cache the last promise value to make it available to the next\n",
              "    // step of the generator.\n",
              "    outputElement.lastPromiseValue = value;\n",
              "    return next.value.response;\n",
              "  });\n",
              "}\n",
              "\n",
              "/**\n",
              " * Generator function which is called between each async step of the upload\n",
              " * process.\n",
              " * @param {string} inputId Element ID of the input file picker element.\n",
              " * @param {string} outputId Element ID of the output display.\n",
              " * @return {!Iterable<!Object>} Iterable of next steps.\n",
              " */\n",
              "function* uploadFilesStep(inputId, outputId) {\n",
              "  const inputElement = document.getElementById(inputId);\n",
              "  inputElement.disabled = false;\n",
              "\n",
              "  const outputElement = document.getElementById(outputId);\n",
              "  outputElement.innerHTML = '';\n",
              "\n",
              "  const pickedPromise = new Promise((resolve) => {\n",
              "    inputElement.addEventListener('change', (e) => {\n",
              "      resolve(e.target.files);\n",
              "    });\n",
              "  });\n",
              "\n",
              "  const cancel = document.createElement('button');\n",
              "  inputElement.parentElement.appendChild(cancel);\n",
              "  cancel.textContent = 'Cancel upload';\n",
              "  const cancelPromise = new Promise((resolve) => {\n",
              "    cancel.onclick = () => {\n",
              "      resolve(null);\n",
              "    };\n",
              "  });\n",
              "\n",
              "  // Wait for the user to pick the files.\n",
              "  const files = yield {\n",
              "    promise: Promise.race([pickedPromise, cancelPromise]),\n",
              "    response: {\n",
              "      action: 'starting',\n",
              "    }\n",
              "  };\n",
              "\n",
              "  cancel.remove();\n",
              "\n",
              "  // Disable the input element since further picks are not allowed.\n",
              "  inputElement.disabled = true;\n",
              "\n",
              "  if (!files) {\n",
              "    return {\n",
              "      response: {\n",
              "        action: 'complete',\n",
              "      }\n",
              "    };\n",
              "  }\n",
              "\n",
              "  for (const file of files) {\n",
              "    const li = document.createElement('li');\n",
              "    li.append(span(file.name, {fontWeight: 'bold'}));\n",
              "    li.append(span(\n",
              "        `(${file.type || 'n/a'}) - ${file.size} bytes, ` +\n",
              "        `last modified: ${\n",
              "            file.lastModifiedDate ? file.lastModifiedDate.toLocaleDateString() :\n",
              "                                    'n/a'} - `));\n",
              "    const percent = span('0% done');\n",
              "    li.appendChild(percent);\n",
              "\n",
              "    outputElement.appendChild(li);\n",
              "\n",
              "    const fileDataPromise = new Promise((resolve) => {\n",
              "      const reader = new FileReader();\n",
              "      reader.onload = (e) => {\n",
              "        resolve(e.target.result);\n",
              "      };\n",
              "      reader.readAsArrayBuffer(file);\n",
              "    });\n",
              "    // Wait for the data to be ready.\n",
              "    let fileData = yield {\n",
              "      promise: fileDataPromise,\n",
              "      response: {\n",
              "        action: 'continue',\n",
              "      }\n",
              "    };\n",
              "\n",
              "    // Use a chunked sending to avoid message size limits. See b/62115660.\n",
              "    let position = 0;\n",
              "    do {\n",
              "      const length = Math.min(fileData.byteLength - position, MAX_PAYLOAD_SIZE);\n",
              "      const chunk = new Uint8Array(fileData, position, length);\n",
              "      position += length;\n",
              "\n",
              "      const base64 = btoa(String.fromCharCode.apply(null, chunk));\n",
              "      yield {\n",
              "        response: {\n",
              "          action: 'append',\n",
              "          file: file.name,\n",
              "          data: base64,\n",
              "        },\n",
              "      };\n",
              "\n",
              "      let percentDone = fileData.byteLength === 0 ?\n",
              "          100 :\n",
              "          Math.round((position / fileData.byteLength) * 100);\n",
              "      percent.textContent = `${percentDone}% done`;\n",
              "\n",
              "    } while (position < fileData.byteLength);\n",
              "  }\n",
              "\n",
              "  // All done.\n",
              "  yield {\n",
              "    response: {\n",
              "      action: 'complete',\n",
              "    }\n",
              "  };\n",
              "}\n",
              "\n",
              "scope.google = scope.google || {};\n",
              "scope.google.colab = scope.google.colab || {};\n",
              "scope.google.colab._files = {\n",
              "  _uploadFiles,\n",
              "  _uploadFilesContinue,\n",
              "};\n",
              "})(self);\n",
              "</script> "
            ]
          },
          "metadata": {}
        },
        {
          "output_type": "stream",
          "name": "stdout",
          "text": [
            "Saving Screenshot 2024-07-27 at 6.54.02 PM.png to Screenshot 2024-07-27 at 6.54.02 PM (3).png\n",
            "1/1 [==============================] - 0s 22ms/step\n",
            "Predicted number: 0\n"
          ]
        }
      ]
    },
    {
      "cell_type": "code",
      "source": [
        "from ipywidgets import FileUpload\n",
        "upload_widget = FileUpload()\n",
        "display(upload_widget)\n",
        "\n",
        "# Process the uploaded file\n",
        "if upload_widget.value:\n",
        "  # Get the first uploaded file\n",
        "  uploaded_file = upload_widget.value[0]\n",
        "  image_path = uploaded_file['name']\n",
        "\n",
        "  with open(image_path, 'wb') as f:\n",
        "    f.write(uploaded_file['content'])\n",
        "\n",
        "  # Preprocess the uploaded image\n",
        "  img_array = preprocess_image(image_path)\n",
        "\n",
        "  # Make a prediction\n",
        "  prediction = np.argmax(CNN_model.predict(img_array))\n",
        "\n",
        "  print(\"Predicted number:\", prediction)"
      ],
      "metadata": {
        "colab": {
          "base_uri": "https://localhost:8080/",
          "height": 49,
          "referenced_widgets": [
            "2d2262dd0c6f4aa5b4ced13ab687cb84",
            "76384ebc936746c391932c397d6b4f77",
            "57fbcebc6b8c43719daacece43e24be9"
          ]
        },
        "id": "W_9i3Y0tUlN6",
        "outputId": "3db264c7-1b4c-45ac-b73a-0ba5bbf54d3a"
      },
      "execution_count": 149,
      "outputs": [
        {
          "output_type": "display_data",
          "data": {
            "text/plain": [
              "FileUpload(value={}, description='Upload')"
            ],
            "application/vnd.jupyter.widget-view+json": {
              "version_major": 2,
              "version_minor": 0,
              "model_id": "2d2262dd0c6f4aa5b4ced13ab687cb84"
            }
          },
          "metadata": {}
        }
      ]
    },
    {
      "source": [
        "!file IMG_1488\\ \\(1\\).jpg"
      ],
      "cell_type": "code",
      "metadata": {
        "colab": {
          "base_uri": "https://localhost:8080/"
        },
        "id": "_3gm7QjiVCrQ",
        "outputId": "63a8e4ad-8123-4a1d-c091-efdf779538ce"
      },
      "execution_count": 123,
      "outputs": [
        {
          "output_type": "stream",
          "name": "stdout",
          "text": [
            "IMG_1488 (1).jpg: ISO Media, HEIF Image HEVC Main or Main Still Picture Profile\n"
          ]
        }
      ]
    },
    {
      "source": [
        "!pip install pillow[HEIF]"
      ],
      "cell_type": "code",
      "metadata": {
        "colab": {
          "base_uri": "https://localhost:8080/"
        },
        "id": "fgGZYQXXVGJo",
        "outputId": "f52accb5-6d2d-42aa-bc22-5cdcd88b91ec"
      },
      "execution_count": 124,
      "outputs": [
        {
          "output_type": "stream",
          "name": "stdout",
          "text": [
            "Requirement already satisfied: pillow[HEIF] in /usr/local/lib/python3.10/dist-packages (9.4.0)\n",
            "\u001b[33mWARNING: pillow 9.4.0 does not provide the extra 'heif'\u001b[0m\u001b[33m\n",
            "\u001b[0m"
          ]
        }
      ]
    },
    {
      "cell_type": "code",
      "source": [
        "from PIL import Image\n",
        "\n",
        "# Load image\n",
        "try:\n",
        "    img = Image.open('/content/lol.jpg')\n",
        "    img.show()\n",
        "except IOError:\n",
        "    print(\"Unable to open or identify the image file.\")"
      ],
      "metadata": {
        "colab": {
          "base_uri": "https://localhost:8080/"
        },
        "id": "CJ6Zjz9LVC7u",
        "outputId": "4e918d7f-087c-476b-e825-ec36d84f419b"
      },
      "execution_count": 132,
      "outputs": [
        {
          "output_type": "stream",
          "name": "stdout",
          "text": [
            "Unable to open or identify the image file.\n"
          ]
        }
      ]
    },
    {
      "cell_type": "code",
      "source": [
        "# prompt: different way to convert image into an array\n",
        "\n",
        "import numpy as np\n",
        "from PIL import Image\n",
        "\n",
        "# Load the image\n",
        "image = Image.open('/content/lol.jpeg')\n",
        "\n",
        "# Convert to grayscale\n",
        "image = image.convert('L')\n",
        "\n",
        "# Resize the image\n",
        "image = image.resize((28, 28))\n",
        "\n",
        "# Convert to NumPy array\n",
        "image_array = np.array(image)\n",
        "\n",
        "# Normalize pixel values\n",
        "image_array = image_array / 255.0\n",
        "\n",
        "# Reshape for model input\n",
        "image_array = image_array.reshape(1, 28, 28, 1)\n",
        "\n",
        "print(image_array.shape)\n"
      ],
      "metadata": {
        "colab": {
          "base_uri": "https://localhost:8080/",
          "height": 326
        },
        "id": "uS1CDyosV8zm",
        "outputId": "a2b89d88-8f59-4ce1-fc3b-11bc60fa0623"
      },
      "execution_count": 138,
      "outputs": [
        {
          "output_type": "error",
          "ename": "UnidentifiedImageError",
          "evalue": "cannot identify image file '/content/lol.jpeg'",
          "traceback": [
            "\u001b[0;31m---------------------------------------------------------------------------\u001b[0m",
            "\u001b[0;31mUnidentifiedImageError\u001b[0m                    Traceback (most recent call last)",
            "\u001b[0;32m<ipython-input-138-f27522736f88>\u001b[0m in \u001b[0;36m<cell line: 7>\u001b[0;34m()\u001b[0m\n\u001b[1;32m      5\u001b[0m \u001b[0;34m\u001b[0m\u001b[0m\n\u001b[1;32m      6\u001b[0m \u001b[0;31m# Load the image\u001b[0m\u001b[0;34m\u001b[0m\u001b[0;34m\u001b[0m\u001b[0m\n\u001b[0;32m----> 7\u001b[0;31m \u001b[0mimage\u001b[0m \u001b[0;34m=\u001b[0m \u001b[0mImage\u001b[0m\u001b[0;34m.\u001b[0m\u001b[0mopen\u001b[0m\u001b[0;34m(\u001b[0m\u001b[0;34m'/content/lol.jpeg'\u001b[0m\u001b[0;34m)\u001b[0m\u001b[0;34m\u001b[0m\u001b[0;34m\u001b[0m\u001b[0m\n\u001b[0m\u001b[1;32m      8\u001b[0m \u001b[0;34m\u001b[0m\u001b[0m\n\u001b[1;32m      9\u001b[0m \u001b[0;31m# Convert to grayscale\u001b[0m\u001b[0;34m\u001b[0m\u001b[0;34m\u001b[0m\u001b[0m\n",
            "\u001b[0;32m/usr/local/lib/python3.10/dist-packages/PIL/Image.py\u001b[0m in \u001b[0;36mopen\u001b[0;34m(fp, mode, formats)\u001b[0m\n\u001b[1;32m   3281\u001b[0m         \u001b[0mwarnings\u001b[0m\u001b[0;34m.\u001b[0m\u001b[0mwarn\u001b[0m\u001b[0;34m(\u001b[0m\u001b[0mmessage\u001b[0m\u001b[0;34m)\u001b[0m\u001b[0;34m\u001b[0m\u001b[0;34m\u001b[0m\u001b[0m\n\u001b[1;32m   3282\u001b[0m     \u001b[0mmsg\u001b[0m \u001b[0;34m=\u001b[0m \u001b[0;34m\"cannot identify image file %r\"\u001b[0m \u001b[0;34m%\u001b[0m \u001b[0;34m(\u001b[0m\u001b[0mfilename\u001b[0m \u001b[0;32mif\u001b[0m \u001b[0mfilename\u001b[0m \u001b[0;32melse\u001b[0m \u001b[0mfp\u001b[0m\u001b[0;34m)\u001b[0m\u001b[0;34m\u001b[0m\u001b[0;34m\u001b[0m\u001b[0m\n\u001b[0;32m-> 3283\u001b[0;31m     \u001b[0;32mraise\u001b[0m \u001b[0mUnidentifiedImageError\u001b[0m\u001b[0;34m(\u001b[0m\u001b[0mmsg\u001b[0m\u001b[0;34m)\u001b[0m\u001b[0;34m\u001b[0m\u001b[0;34m\u001b[0m\u001b[0m\n\u001b[0m\u001b[1;32m   3284\u001b[0m \u001b[0;34m\u001b[0m\u001b[0m\n\u001b[1;32m   3285\u001b[0m \u001b[0;34m\u001b[0m\u001b[0m\n",
            "\u001b[0;31mUnidentifiedImageError\u001b[0m: cannot identify image file '/content/lol.jpeg'"
          ]
        }
      ]
    },
    {
      "cell_type": "code",
      "source": [],
      "metadata": {
        "id": "-5p7oHSYWQ0C"
      },
      "execution_count": null,
      "outputs": []
    }
  ]
}